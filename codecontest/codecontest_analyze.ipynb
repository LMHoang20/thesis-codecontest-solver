{
 "cells": [
  {
   "cell_type": "code",
   "execution_count": 9,
   "metadata": {},
   "outputs": [],
   "source": [
    "import datasets"
   ]
  },
  {
   "cell_type": "code",
   "execution_count": 10,
   "metadata": {},
   "outputs": [
    {
     "name": "stdout",
     "output_type": "stream",
     "text": [
      "Token will not been saved to git credential helper. Pass `add_to_git_credential=True` if you want to set the git credential as well.\n",
      "Token is valid (permission: write).\n",
      "Your token has been saved to /Users/hoangle/.cache/huggingface/token\n",
      "Login successful\n"
     ]
    }
   ],
   "source": [
    "from const_getter import ConstGetter\n",
    "from huggingface_hub import login\n",
    "\n",
    "HF_READ_TOKEN = ConstGetter.get_hf_read_token()\n",
    "login(HF_READ_TOKEN)"
   ]
  },
  {
   "cell_type": "code",
   "execution_count": 12,
   "metadata": {},
   "outputs": [
    {
     "name": "stderr",
     "output_type": "stream",
     "text": [
      "Filter: 100%|██████████| 13328/13328 [03:38<00:00, 60.88 examples/s]\n"
     ]
    }
   ],
   "source": [
    "dataset_name = 'deepmind/code_contests'\n",
    "split = 'train'\n",
    "cache_dir = 'cache'\n",
    "\n",
    "dataset = datasets.load_dataset(dataset_name, split=split, cache_dir=cache_dir)\n",
    "\n",
    "def filter_function(sample):\n",
    "    return sample['source'] == 2 and \\\n",
    "        len(sample['public_tests']['input']) > 0 and \\\n",
    "        len(sample['private_tests']['input']) > 0 and \\\n",
    "        sample['cf_contest_id'] > 0 and \\\n",
    "        sample['cf_index'] != '' and \\\n",
    "        sample['input_file'] == '' and \\\n",
    "        sample['output_file'] == ''\n",
    "\n",
    "dataset = dataset.filter(filter_function)"
   ]
  },
  {
   "cell_type": "code",
   "execution_count": 13,
   "metadata": {},
   "outputs": [
    {
     "name": "stdout",
     "output_type": "stream",
     "text": [
      "Dataset({\n",
      "    features: ['name', 'description', 'public_tests', 'private_tests', 'generated_tests', 'source', 'difficulty', 'solutions', 'incorrect_solutions', 'cf_contest_id', 'cf_index', 'cf_points', 'cf_rating', 'cf_tags', 'is_description_translated', 'untranslated_description', 'time_limit', 'memory_limit_bytes', 'input_file', 'output_file'],\n",
      "    num_rows: 7184\n",
      "})\n"
     ]
    }
   ],
   "source": [
    "print(dataset)"
   ]
  },
  {
   "cell_type": "code",
   "execution_count": 14,
   "metadata": {},
   "outputs": [],
   "source": [
    "PROBLEM_URLS_PATH = ConstGetter.get_problem_urls_path()\n",
    "with open(PROBLEM_URLS_PATH, 'w') as f:\n",
    "    for sample in dataset:\n",
    "        url = f\"https://codeforces.com/problemset/problem/{sample['cf_contest_id']}/{sample['cf_index']}\"\n",
    "        f.write(url + '\\n')"
   ]
  }
 ],
 "metadata": {
  "kernelspec": {
   "display_name": "cfcrawler",
   "language": "python",
   "name": "python3"
  },
  "language_info": {
   "codemirror_mode": {
    "name": "ipython",
    "version": 3
   },
   "file_extension": ".py",
   "mimetype": "text/x-python",
   "name": "python",
   "nbconvert_exporter": "python",
   "pygments_lexer": "ipython3",
   "version": "3.11.5"
  }
 },
 "nbformat": 4,
 "nbformat_minor": 2
}
